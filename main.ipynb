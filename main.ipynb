{
 "cells": [
  {
   "cell_type": "code",
   "execution_count": null,
   "metadata": {},
   "outputs": [],
   "source": [
    "import requests"
   ]
  },
  {
   "cell_type": "code",
   "execution_count": null,
   "metadata": {},
   "outputs": [],
   "source": [
    "regione_lazio_2008 = {\n",
    "    \"regione\": \"Lazio\",\n",
    "    \"anno\": 2009\n",
    "}\n",
    "response = requests.post(\"http://127.0.0.1:8000/items\", regione_lazio_2008).json()\n",
    "\n"
   ]
  }
 ],
 "metadata": {
  "language_info": {
   "name": "python"
  }
 },
 "nbformat": 4,
 "nbformat_minor": 2
}
